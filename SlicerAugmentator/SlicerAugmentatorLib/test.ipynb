{
 "cells": [
  {
   "cell_type": "code",
   "execution_count": 1,
   "metadata": {},
   "outputs": [
    {
     "ename": "AttributeError",
     "evalue": "'dict' object has no attribute 'rotate'",
     "output_type": "error",
     "traceback": [
      "\u001b[0;31m---------------------------------------------------------------------------\u001b[0m",
      "\u001b[0;31mAttributeError\u001b[0m                            Traceback (most recent call last)",
      "Cell \u001b[0;32mIn[1], line 16\u001b[0m\n\u001b[1;32m      1\u001b[0m \u001b[38;5;28;01mimport\u001b[39;00m \u001b[38;5;21;01mjson\u001b[39;00m\n\u001b[1;32m      3\u001b[0m transformations \u001b[38;5;241m=\u001b[39m {\n\u001b[1;32m      4\u001b[0m                 \u001b[38;5;124m\"\u001b[39m\u001b[38;5;124mrotate\u001b[39m\u001b[38;5;124m\"\u001b[39m: {\n\u001b[1;32m      5\u001b[0m                     \u001b[38;5;124m\"\u001b[39m\u001b[38;5;124menabled\u001b[39m\u001b[38;5;124m\"\u001b[39m: \u001b[38;5;28;01mFalse\u001b[39;00m,\n\u001b[0;32m   (...)\u001b[0m\n\u001b[1;32m     13\u001b[0m                 }\n\u001b[1;32m     14\u001b[0m             }\n\u001b[0;32m---> 16\u001b[0m transformations\u001b[38;5;241m.\u001b[39mrotate\u001b[38;5;241m.\u001b[39menabled\n",
      "\u001b[0;31mAttributeError\u001b[0m: 'dict' object has no attribute 'rotate'"
     ]
    }
   ],
   "source": [
    "import json\n",
    "\n",
    "transformations = [\n",
    "                \"rotate\": {\n",
    "                    \"enabled\": False,\n",
    "                    \"angle\": 10,\n",
    "                    \"interpolationMode\": \"area\"  \n",
    "                },\n",
    "                \"resize\": {\n",
    "                    \"enabled\": False,\n",
    "                    \"spatialSize\": (256, 256, 256),\n",
    "                    \"interpolationMode\": \"area\"\n",
    "                }\n",
    "            ]\n",
    "\n",
    "transformations.rotate.enabled"
   ]
  }
 ],
 "metadata": {
  "kernelspec": {
   "display_name": "base",
   "language": "python",
   "name": "python3"
  },
  "language_info": {
   "codemirror_mode": {
    "name": "ipython",
    "version": 3
   },
   "file_extension": ".py",
   "mimetype": "text/x-python",
   "name": "python",
   "nbconvert_exporter": "python",
   "pygments_lexer": "ipython3",
   "version": "3.11.5"
  }
 },
 "nbformat": 4,
 "nbformat_minor": 2
}
